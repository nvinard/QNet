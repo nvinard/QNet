{
  "nbformat": 4,
  "nbformat_minor": 0,
  "metadata": {
    "colab": {
      "name": "visualization_contUpdating_results.ipynb",
      "provenance": [],
      "collapsed_sections": []
    },
    "kernelspec": {
      "display_name": "Python 3",
      "name": "python3"
    },
    "language_info": {
      "name": "python"
    }
  },
  "cells": [
    {
      "cell_type": "code",
      "metadata": {
        "colab": {
          "base_uri": "https://localhost:8080/"
        },
        "id": "yqbPPAtnnDDJ",
        "outputId": "25b23129-b9c5-4efb-fced-8ea52a4470c1"
      },
      "source": [
        "from google.colab import drive\n",
        "drive.mount('/content/drive/')"
      ],
      "execution_count": 5,
      "outputs": [
        {
          "output_type": "stream",
          "text": [
            "Drive already mounted at /content/drive/; to attempt to forcibly remount, call drive.mount(\"/content/drive/\", force_remount=True).\n"
          ],
          "name": "stdout"
        }
      ]
    },
    {
      "cell_type": "code",
      "metadata": {
        "id": "QjQriWsfSa6u"
      },
      "source": [
        "import glob\n",
        "import pandas as pd\n",
        "import tensorflow as tf\n",
        "\n",
        "import numpy as np\n",
        "import xarray as xr\n",
        "\n",
        "import matplotlib.pyplot as plt\n",
        "from matplotlib.collections import LineCollection"
      ],
      "execution_count": 6,
      "outputs": []
    },
    {
      "cell_type": "markdown",
      "metadata": {
        "id": "460MEwmQnJnd"
      },
      "source": [
        "# Visualization of results for regularly updated QNet\n",
        "\n",
        "Visualize location predicted by QNet that is updated on a regular (daily) basis."
      ]
    },
    {
      "cell_type": "markdown",
      "metadata": {
        "id": "wBvcNtKiRpjy"
      },
      "source": [
        "Code to predict locations and return dataframe given files to stored xarray data"
      ]
    },
    {
      "cell_type": "code",
      "metadata": {
        "id": "7eDnS6qbR2Uk"
      },
      "source": [
        "\n",
        "def normalize(data):\n",
        "    data = data/np.max(np.abs(data))\n",
        "    return data\n",
        "def check_predictions(data_files, model, pd_dict_name, detection_threshold=0.6):\n",
        "\n",
        "    '''\n",
        "\n",
        "    pd = (data_files, model, pd_dict_name, detection_threshold=0.6)\n",
        "\n",
        "    Runs model prediction for all data_files and returns file names of the detected events,\n",
        "    list of detections (True/False) and a list of all the filenames.\n",
        "    Additionally it generates pandas dataframe with information about the prediction for each event.\n",
        "\n",
        "    Args:\n",
        "        data_files: list of paths to input data\n",
        "        model: model used for predictions\n",
        "        pd_dict_name: name of dictionary to save\n",
        "        detection_threshold: detection threshold\n",
        "\n",
        "    Retuns:\n",
        "        pd: pandas dataframe (also saved to disk)\n",
        "\n",
        "    '''\n",
        "    \n",
        "    distances_old, distances_new = [], []\n",
        "    true_x_new, true_y_new, true_z_new, pred_x, pred_y, pred_z = [], [], [], [], [], []\n",
        "    true_x_old, true_y_old, true_z_old = [], [], []\n",
        "    x_error, y_error, z_error = [], [], []\n",
        "    snr, magnitude = [], []\n",
        "    vol, clvd, dc = [], [], []\n",
        "    file_name = []\n",
        "    detection = []\n",
        "    fns = []\n",
        "    max_val = []\n",
        "    day = []\n",
        "\n",
        "    x = np.reshape(np.linspace(5500,8500,128), (128,))\n",
        "    y = np.reshape(np.linspace(3500,6100,96), (96,))\n",
        "    z = np.reshape(np.linspace(1400,3600,64), (64,))\n",
        "    \n",
        "    for i, fn in enumerate(data_files):\n",
        "\n",
        "        ds = xr.open_dataset(fn)\n",
        "        data = ds['data'].values\n",
        "        dt = 0.002\n",
        "        t = np.arange(0,1401)*dt\n",
        "        tn = np.linspace(0,t[-1],1024)\n",
        "        dtn = tn[1]-tn[0]\n",
        "        data_new = np.zeros((len(tn),data.shape[1]))\n",
        "        for i in range(data_new.shape[1]):\n",
        "            data_new[:,i] = np.interp(tn, t, data[:,i])\n",
        "        data = data_new\n",
        "        sx_old = ds.attrs['source_coordinates_new']\n",
        "        sx_new = ds.attrs['source_coordinates']\n",
        "        sx_error = ds.attrs['loc_errors']\n",
        "        \n",
        "        true_x_new.append(sx_new[0])\n",
        "        true_y_new.append(sx_new[1])\n",
        "        true_z_new.append(sx_new[2])\n",
        "        true_x_old.append(sx_old[0])\n",
        "        true_y_old.append(sx_old[1])\n",
        "        true_z_old.append(sx_old[2])\n",
        "        x_error.append(sx_error[0])\n",
        "        y_error.append(sx_error[1])\n",
        "        z_error.append(sx_error[2])\n",
        "        snr.append(ds.attrs['SNR'])\n",
        "        magnitude.append(ds.attrs['Magnitude'])\n",
        "        vol.append(ds.attrs['VOL'])\n",
        "        clvd.append(ds.attrs['CLVD'])\n",
        "        dc.append(ds.attrs['DC'])\n",
        "        file_name.append(fn.split('/')[-1])\n",
        "        fns.append(fn)\n",
        "        day.append(ds.attrs['day'])\n",
        "        \n",
        "        data = normalize(data)\n",
        "        data = np.reshape(data, (1, data.shape[0], data.shape[1],1))\n",
        "        prediction = model.predict(data)[0,:]\n",
        "    \n",
        "        maxIdx = np.unravel_index(np.argmax(prediction), prediction.shape)\n",
        "        xp = x[maxIdx[0]]\n",
        "        yp = y[maxIdx[1]]\n",
        "        zp = z[maxIdx[2]]\n",
        "        \n",
        "        pred_x.append(xp)\n",
        "        pred_y.append(yp)\n",
        "        pred_z.append(zp)\n",
        "        max_val.append(np.max(prediction))\n",
        "        \n",
        "        dist_old = np.sqrt((sx_old[0]-x[maxIdx[0]])**2+(sx_old[1]-y[maxIdx[1]])**2+(sx_old[2]-z[maxIdx[2]])**2)\n",
        "        dist_new = np.sqrt((sx_new[0]-x[maxIdx[0]])**2+(sx_new[1]-y[maxIdx[1]])**2+(sx_new[2]-z[maxIdx[2]])**2)\n",
        "        \n",
        "        distances_old.append(dist_old)\n",
        "        distances_new.append(dist_new)\n",
        "\n",
        "        if np.max(prediction) >= detection_threshold:\n",
        "            detection.append(True)\n",
        "        else:\n",
        "            detection.append(False)\n",
        "            \n",
        "    df = pd.DataFrame(\n",
        "        {\n",
        "            'file': file_name,\n",
        "            'detection': detection,\n",
        "            'distances_old': distances_old,\n",
        "            'distances_new': distances_new,\n",
        "            'new_true_x': true_x_new,\n",
        "            'new_true_y': true_y_new,\n",
        "            'new_true_z': true_z_new,\n",
        "            'old_true_x': true_x_old,\n",
        "            'old_true_y': true_y_old,\n",
        "            'old_true_z': true_z_old,\n",
        "            'pred_x': pred_x,\n",
        "            'pred_y': pred_y,\n",
        "            'pred_z': pred_z,\n",
        "            'max_val': max_val,\n",
        "            'x_error': x_error,\n",
        "            'y_error': y_error,\n",
        "            'z_error': z_error,\n",
        "            'SNR': snr,\n",
        "            'Magnitude': magnitude,\n",
        "            'Volume': vol,\n",
        "            'DC': dc,\n",
        "            'CLVD': clvd,\n",
        "            'filenames': fns,\n",
        "            'day': day\n",
        "        })\n",
        "    \n",
        "    df.to_csv(pd_dict_name)\n",
        "\n",
        "    n_detections = sum(bool(x) for x in detection)\n",
        "    print(\"Number of events detected: {}\".format(n_detections))\n",
        "\n",
        "    return df"
      ],
      "execution_count": 7,
      "outputs": []
    },
    {
      "cell_type": "markdown",
      "metadata": {
        "id": "JMpKQAymSBqj"
      },
      "source": [
        "Path to data files"
      ]
    },
    {
      "cell_type": "code",
      "metadata": {
        "id": "MCxjZpN7SGjh"
      },
      "source": [
        "PATH_TO_DATA = \"drive/My Drive/cnn_gpu/texas_dataset\"\n",
        "train_fns = glob.glob(PATH_TO_DATA + '/train*.nc')\n",
        "val_fns = glob.glob(PATH_TO_DATA + '/val*.nc')\n",
        "test_fns = glob.glob(PATH_TO_DATA + '/test*.nc')"
      ],
      "execution_count": 8,
      "outputs": []
    },
    {
      "cell_type": "code",
      "metadata": {
        "colab": {
          "base_uri": "https://localhost:8080/"
        },
        "id": "g5EKY5-EIda0",
        "outputId": "f2f00b0c-315e-414f-fc2d-cb343d7b4b4d"
      },
      "source": [
        "len(test_fns)"
      ],
      "execution_count": 18,
      "outputs": [
        {
          "output_type": "execute_result",
          "data": {
            "text/plain": [
              "248"
            ]
          },
          "metadata": {
            "tags": []
          },
          "execution_count": 18
        }
      ]
    },
    {
      "cell_type": "markdown",
      "metadata": {
        "id": "LTNVfx5ERbIx"
      },
      "source": [
        "Apply firsr TL model (trained on 4 days of field data) to day 5"
      ]
    },
    {
      "cell_type": "code",
      "metadata": {
        "colab": {
          "base_uri": "https://localhost:8080/"
        },
        "id": "p93OX-i3RgJk",
        "outputId": "748ec96a-0634-4b0b-a4eb-aba3e1492480"
      },
      "source": [
        "def dice_coef(y_true, y_pred, smooth=1):\n",
        "    intersection = K.sum(y_true * y_pred, axis=[1,2,3])\n",
        "    union = K.sum(y_true, axis=[1,2,3]) + K.sum(y_pred, axis=[1,2,3])\n",
        "    dice = K.mean((2. * intersection + smooth)/(union + smooth), axis=0)\n",
        "    return dice\n",
        "\n",
        "def dice_coef_gaussian(y_true, y_pred, smooth=1):\n",
        "    y_true = tf.dtypes.cast(y_true>0.1, tf.int32)\n",
        "    y_true = tf.dtypes.cast(y_true, tf.float32)\n",
        "    y_pred = tf.dtypes.cast(y_pred>0.1, tf.int32)\n",
        "    y_pred = tf.dtypes.cast(y_pred, tf.float32)\n",
        "    intersection = K.sum(y_true * y_pred, axis=[1,2,3])\n",
        "    union = K.sum(y_true, axis=[1,2,3]) + K.sum(y_pred, axis=[1,2,3])\n",
        "    dice = K.mean((2. * intersection + smooth)/(union + smooth), axis=0)\n",
        "    return dice\n",
        "\n",
        "path_model = 'drive/My Drive/Texas_TL/TL_models/TL_TFR_all_temp/QNet_update_84.h5'#regular_updating/QNet_0.h5'\n",
        "model = tf.keras.models.load_model(\n",
        "        path_model,\n",
        "        custom_objects={\n",
        "            'LeakyReLU':tf.keras.layers.LeakyReLU, 'ReLU':tf.keras.layers.ReLU,\n",
        "            'dice_coef_gaussian': dice_coef_gaussian, 'dice_coef': dice_coef,\n",
        "        })\n",
        "    \n",
        "#F1_tmp, F1_binary_tmp, hypo_dist_tmp, epi_dist_tmp, depth_dist_tmp, max_val_tmp = run_validations(val_fns, model, days=(0, 30))\n",
        "df_val = check_predictions(val_fns, model, 'tmp.csv')\n",
        "df_test = check_predictions(test_fns, model, 'tmp.csv')\n",
        "df_train = check_predictions(train_fns, model, 'tmp.csv')"
      ],
      "execution_count": 15,
      "outputs": [
        {
          "output_type": "stream",
          "text": [
            "Number of events detected: 240\n",
            "Number of events detected: 237\n",
            "Number of events detected: 729\n"
          ],
          "name": "stdout"
        }
      ]
    },
    {
      "cell_type": "markdown",
      "metadata": {
        "id": "2RmnhSyJRCgG"
      },
      "source": [
        "Load model and predict on next day of data. Append results to dataframe"
      ]
    },
    {
      "cell_type": "code",
      "metadata": {
        "id": "gtB9nRLDRDAM"
      },
      "source": [
        "days_list = [21,22,23,24]\n",
        "\n",
        "for i, day in enumerate(days_list):\n",
        "  path_model = 'drive/My Drive/Texas_TL/TL_models/TL_TFR_regular_updating/QNet_updated_{}.h5'.format(i+1)\n",
        "  model = tf.keras.models.load_model(\n",
        "      path_model,\n",
        "      custom_objects={\n",
        "          'LeakyReLU':tf.keras.layers.LeakyReLU, 'ReLU':tf.keras.layers.ReLU,\n",
        "          'dice_coef_gaussian': dice_coef_gaussian, 'dice_coef': dice_coef,\n",
        "      }\n",
        "  )\n",
        "\n",
        "  df_val = check_predictions(val_fns, model, 'tmp.csv')\n",
        "  df_test = check_predictions(test_fns, model, 'tmp.csv')\n",
        "  df_train = check_predictions(train_fns, model, 'tmp.csv')\n",
        "\n",
        "  df_tmp = df_train.append(df_val)\n",
        "  df_tmp = df_tmp.append(df_test)\n",
        "  df_tmp = df_tmp[df_tmp['day']==day]\n",
        "\n",
        "  if i == 0:\n",
        "    df_comb = df_tmp\n",
        "  else:\n",
        "    df_comb = df_comb.append(df_tmp)"
      ],
      "execution_count": null,
      "outputs": []
    },
    {
      "cell_type": "code",
      "metadata": {
        "id": "ALwLKEeI3TZI"
      },
      "source": [
        "df_comb"
      ],
      "execution_count": null,
      "outputs": []
    },
    {
      "cell_type": "markdown",
      "metadata": {
        "id": "xIu3Wjt2Q20A"
      },
      "source": [
        "Plot predicted locations and locations given in the catalog"
      ]
    },
    {
      "cell_type": "code",
      "metadata": {
        "colab": {
          "base_uri": "https://localhost:8080/"
        },
        "id": "ywdWYqsq9HuB",
        "outputId": "59d63580-5c56-42b5-e927-64dba29ca25c"
      },
      "source": [
        "print(df_train.shape, df_test.shape, df_val.shape)"
      ],
      "execution_count": 10,
      "outputs": [
        {
          "output_type": "stream",
          "text": [
            "(747, 24) (248, 24) (249, 24)\n"
          ],
          "name": "stdout"
        }
      ]
    },
    {
      "cell_type": "code",
      "metadata": {
        "colab": {
          "base_uri": "https://localhost:8080/"
        },
        "id": "flzY8pu18_rX",
        "outputId": "83b2dbea-ca78-4a11-9b61-2fa2300099c0"
      },
      "source": [
        "df_comb = df_train.append(df_val)\n",
        "df_comb = df_comb.append(df_test)\n",
        "\n",
        "print(df_comb.shape)"
      ],
      "execution_count": 16,
      "outputs": [
        {
          "output_type": "stream",
          "text": [
            "(1244, 24)\n"
          ],
          "name": "stdout"
        }
      ]
    },
    {
      "cell_type": "code",
      "metadata": {
        "id": "d0dkzKkhQ0NB",
        "colab": {
          "base_uri": "https://localhost:8080/",
          "height": 611
        },
        "outputId": "fa77eebd-1110-4ce7-ff8a-e8fbdbdca8ca"
      },
      "source": [
        "for d in range(23,25):\n",
        "\n",
        "  df_test2 = df2[df2['max_val']>0.7]\n",
        "  df_test2 = df_test2[df_test2['day']==d]\n",
        "\n",
        "  print(df_test2.shape)\n",
        "\n",
        "\n",
        "  xc = df_test2['new_true_x'].values\n",
        "  xp = df_test2['pred_x'].values\n",
        "  yc = df_test2['new_true_y'].values\n",
        "  yp = df_test2['pred_y'].values\n",
        "  zc = df_test2['new_true_z'].values-400\n",
        "  zp = df_test2['pred_z'].values-400\n",
        "  \n",
        "  linesxy = []\n",
        "  linesxz = []\n",
        "  for i, j in enumerate(xc):\n",
        "    tup1 = (xc[i], yc[i])\n",
        "    tup2 = (xp[i], yp[i])\n",
        "    tup3 = (xc[i], zc[i])\n",
        "    tup4 = (xp[i], zp[i])\n",
        "    linesxy.append(list([tup1, tup2]))\n",
        "    linesxz.append(list([tup3, tup4]))\n",
        "\n",
        "  fig, ax = plt.subplots(figsize=(5,4))\n",
        "\n",
        "  ax.scatter(df_test2['new_true_x'], df_test2['new_true_y'], color='r', marker='.')\n",
        "  ax.scatter(df_test2['pred_x'], df_test2['pred_y'], color='b', marker='+')\n",
        "  ax.set_xlabel('Easting (m)', fontsize=16)\n",
        "  ax.set_ylabel('Northing (m)', fontsize=16)\n",
        "  ax.set_xlim([5700, 8300])\n",
        "  ax.set_ylim([3700, 5900])\n",
        "  lc = LineCollection(linesxy, color='k', alpha=0.5, linewidths=.3)\n",
        "  ax.add_collection(lc)\n",
        "  ax.legend(['Catalog', 'QNet'])\n",
        "  ax.tick_params(labelsize=12)\n",
        "  \n",
        "  plt.tight_layout()\n",
        "  \n",
        "  #plt.savefig('drive/My Drive/Texas_TL/Figures/Figures_day/epi_QNet1_{}.pdf'.format(d))\n",
        "  "
      ],
      "execution_count": 53,
      "outputs": [
        {
          "output_type": "stream",
          "text": [
            "(198, 24)\n",
            "(90, 24)\n"
          ],
          "name": "stdout"
        },
        {
          "output_type": "display_data",
          "data": {
            "image/png": "[encoded data removed]",
            "text/plain": [
              "<Figure size 360x288 with 1 Axes>"
            ]
          },
          "metadata": {
            "tags": [],
            "needs_background": "light"
          }
        },
        {
          "output_type": "display_data",
          "data": {
            "image/png": "[encoded data removed]",
            "text/plain": [
              "<Figure size 360x288 with 1 Axes>"
            ]
          },
          "metadata": {
            "tags": [],
            "needs_background": "light"
          }
        }
      ]
    },
    {
      "cell_type": "markdown",
      "metadata": {
        "id": "T3hKsjEcjmaJ"
      },
      "source": [
        "Apply QNet updated once and QNet updated twice on all the data"
      ]
    },
    {
      "cell_type": "code",
      "metadata": {
        "id": "gYDvjrDWuVgp",
        "colab": {
          "base_uri": "https://localhost:8080/"
        },
        "outputId": "cb0d8588-b4e0-4a91-fa56-3fcd307ca81d"
      },
      "source": [
        "path_model = 'drive/My Drive/Texas_TL/TL_models/TL_TFR_regular_updating/QNet_0.h5'\n",
        "QNet1 = tf.keras.models.load_model(\n",
        "        path_model,\n",
        "        custom_objects={\n",
        "            'LeakyReLU':tf.keras.layers.LeakyReLU, 'ReLU':tf.keras.layers.ReLU,\n",
        "            'dice_coef_gaussian': dice_coef_gaussian, 'dice_coef': dice_coef,\n",
        "        })\n",
        "    \n",
        "#F1_tmp, F1_binary_tmp, hypo_dist_tmp, epi_dist_tmp, depth_dist_tmp, max_val_tmp = run_validations(val_fns, model, days=(0, 30))\n",
        "df_val = check_predictions(val_fns, QNet1, 'tmp.csv')\n",
        "df_test = check_predictions(test_fns, QNet1, 'tmp.csv')\n",
        "df_train = check_predictions(train_fns, QNet1, 'tmp.csv')\n",
        "df1 = df_val.append(df_test)\n",
        "df1 = df1.append(df_train)\n",
        "\n",
        "path_model = 'drive/My Drive/Texas_TL/TL_models/TL_TFR_all_temp/QNet_update_84.h5'\n",
        "QNet2 = tf.keras.models.load_model(\n",
        "        path_model,\n",
        "        custom_objects={\n",
        "            'LeakyReLU':tf.keras.layers.LeakyReLU, 'ReLU':tf.keras.layers.ReLU,\n",
        "            'dice_coef_gaussian': dice_coef_gaussian, 'dice_coef': dice_coef,\n",
        "        })\n",
        "    \n",
        "#F1_tmp, F1_binary_tmp, hypo_dist_tmp, epi_dist_tmp, depth_dist_tmp, max_val_tmp = run_validations(val_fns, model, days=(0, 30))\n",
        "df_val = check_predictions(val_fns, QNet2, 'tmp.csv')\n",
        "df_test = check_predictions(test_fns, QNet2, 'tmp.csv')\n",
        "df_train = check_predictions(train_fns, QNet2, 'tmp.csv')\n",
        "\n",
        "df2 = df_val.append(df_test)\n",
        "df2 = df2.append(df_train)"
      ],
      "execution_count": 20,
      "outputs": [
        {
          "output_type": "stream",
          "text": [
            "Number of events detected: 233\n",
            "Number of events detected: 228\n",
            "Number of events detected: 703\n",
            "Number of events detected: 240\n",
            "Number of events detected: 237\n",
            "Number of events detected: 729\n"
          ],
          "name": "stdout"
        }
      ]
    },
    {
      "cell_type": "markdown",
      "metadata": {
        "id": "FwjvzFzyjupH"
      },
      "source": [
        "Keep events recorded on last two days and those that passed the threshold of 0.7 (maximum value in predicted output)"
      ]
    },
    {
      "cell_type": "code",
      "metadata": {
        "id": "f1CSgPgILBGR"
      },
      "source": [
        "df1_sub = df1[df1['day']>22]\n",
        "df1_sub = df1_sub[df1_sub['max_val']>0.7]\n",
        "\n",
        "df2_sub = df2[df2['day']>22]\n",
        "df2_sub = df2_sub[df2_sub['max_val']>0.7]"
      ],
      "execution_count": 21,
      "outputs": []
    },
    {
      "cell_type": "markdown",
      "metadata": {
        "id": "sc3FjQ7Rj4f0"
      },
      "source": [
        "Find events that both dataframes share in common a view statistics"
      ]
    },
    {
      "cell_type": "code",
      "metadata": {
        "id": "Pvdxdz2eKtLh"
      },
      "source": [
        "df2_in_df1 = df2_sub[df2_sub['filenames'].isin(df1_sub['filenames'])]"
      ],
      "execution_count": 42,
      "outputs": []
    },
    {
      "cell_type": "code",
      "metadata": {
        "id": "gjzuybxBMEBv"
      },
      "source": [
        "df1_sub2 = df1_sub[df1_sub['filenames'].isin(df2_in_df1['filenames'])]"
      ],
      "execution_count": 54,
      "outputs": []
    },
    {
      "cell_type": "code",
      "metadata": {
        "colab": {
          "base_uri": "https://localhost:8080/",
          "height": 317
        },
        "id": "0mffVvjtMFSJ",
        "outputId": "dff54351-001d-460b-da1f-869b0c1107ed"
      },
      "source": [
        "df2_in_df1.describe()"
      ],
      "execution_count": 55,
      "outputs": [
        {
          "output_type": "execute_result",
          "data": {
            "text/html": [
              "<div>\n",
              "<style scoped>\n",
              "    .dataframe tbody tr th:only-of-type {\n",
              "        vertical-align: middle;\n",
              "    }\n",
              "\n",
              "    .dataframe tbody tr th {\n",
              "        vertical-align: top;\n",
              "    }\n",
              "\n",
              "    .dataframe thead th {\n",
              "        text-align: right;\n",
              "    }\n",
              "</style>\n",
              "<table border=\"1\" class=\"dataframe\">\n",
              "  <thead>\n",
              "    <tr style=\"text-align: right;\">\n",
              "      <th></th>\n",
              "      <th>distances_old</th>\n",
              "      <th>distances_new</th>\n",
              "      <th>new_true_x</th>\n",
              "      <th>new_true_y</th>\n",
              "      <th>new_true_z</th>\n",
              "      <th>old_true_x</th>\n",
              "      <th>old_true_y</th>\n",
              "      <th>old_true_z</th>\n",
              "      <th>pred_x</th>\n",
              "      <th>pred_y</th>\n",
              "      <th>pred_z</th>\n",
              "      <th>max_val</th>\n",
              "      <th>x_error</th>\n",
              "      <th>y_error</th>\n",
              "      <th>z_error</th>\n",
              "      <th>SNR</th>\n",
              "      <th>Magnitude</th>\n",
              "      <th>Volume</th>\n",
              "      <th>DC</th>\n",
              "      <th>CLVD</th>\n",
              "      <th>day</th>\n",
              "    </tr>\n",
              "  </thead>\n",
              "  <tbody>\n",
              "    <tr>\n",
              "      <th>count</th>\n",
              "      <td>254.000000</td>\n",
              "      <td>254.000000</td>\n",
              "      <td>254.000000</td>\n",
              "      <td>254.000000</td>\n",
              "      <td>254.000000</td>\n",
              "      <td>254.000000</td>\n",
              "      <td>254.000000</td>\n",
              "      <td>254.000000</td>\n",
              "      <td>254.000000</td>\n",
              "      <td>254.000000</td>\n",
              "      <td>254.000000</td>\n",
              "      <td>254.000000</td>\n",
              "      <td>254.000000</td>\n",
              "      <td>254.000000</td>\n",
              "      <td>254.000000</td>\n",
              "      <td>254.000000</td>\n",
              "      <td>254.000000</td>\n",
              "      <td>254.000000</td>\n",
              "      <td>254.000000</td>\n",
              "      <td>254.000000</td>\n",
              "      <td>254.000000</td>\n",
              "    </tr>\n",
              "    <tr>\n",
              "      <th>mean</th>\n",
              "      <td>225.692012</td>\n",
              "      <td>209.042457</td>\n",
              "      <td>7059.121240</td>\n",
              "      <td>4847.476634</td>\n",
              "      <td>2423.358847</td>\n",
              "      <td>7054.005495</td>\n",
              "      <td>4851.165645</td>\n",
              "      <td>2405.834003</td>\n",
              "      <td>7044.919090</td>\n",
              "      <td>4858.939080</td>\n",
              "      <td>2442.807149</td>\n",
              "      <td>0.911083</td>\n",
              "      <td>94.367730</td>\n",
              "      <td>97.907681</td>\n",
              "      <td>77.929891</td>\n",
              "      <td>0.781463</td>\n",
              "      <td>0.036874</td>\n",
              "      <td>-0.094020</td>\n",
              "      <td>0.522886</td>\n",
              "      <td>-0.116540</td>\n",
              "      <td>23.295276</td>\n",
              "    </tr>\n",
              "    <tr>\n",
              "      <th>std</th>\n",
              "      <td>131.872715</td>\n",
              "      <td>141.438186</td>\n",
              "      <td>607.251068</td>\n",
              "      <td>378.021029</td>\n",
              "      <td>190.895208</td>\n",
              "      <td>616.212961</td>\n",
              "      <td>369.562829</td>\n",
              "      <td>181.892403</td>\n",
              "      <td>575.192339</td>\n",
              "      <td>345.747667</td>\n",
              "      <td>94.076069</td>\n",
              "      <td>0.033016</td>\n",
              "      <td>137.242678</td>\n",
              "      <td>139.873438</td>\n",
              "      <td>93.994132</td>\n",
              "      <td>0.223954</td>\n",
              "      <td>0.272888</td>\n",
              "      <td>0.179770</td>\n",
              "      <td>0.202033</td>\n",
              "      <td>0.336710</td>\n",
              "      <td>0.457067</td>\n",
              "    </tr>\n",
              "    <tr>\n",
              "      <th>min</th>\n",
              "      <td>12.683673</td>\n",
              "      <td>8.497890</td>\n",
              "      <td>6071.175530</td>\n",
              "      <td>4071.598786</td>\n",
              "      <td>1905.167360</td>\n",
              "      <td>5910.364104</td>\n",
              "      <td>3999.828361</td>\n",
              "      <td>1885.194125</td>\n",
              "      <td>6114.173228</td>\n",
              "      <td>4266.315789</td>\n",
              "      <td>2098.412698</td>\n",
              "      <td>0.716572</td>\n",
              "      <td>5.358816</td>\n",
              "      <td>2.988547</td>\n",
              "      <td>0.000480</td>\n",
              "      <td>0.402601</td>\n",
              "      <td>-0.474582</td>\n",
              "      <td>-0.434596</td>\n",
              "      <td>0.063162</td>\n",
              "      <td>-0.798070</td>\n",
              "      <td>23.000000</td>\n",
              "    </tr>\n",
              "    <tr>\n",
              "      <th>25%</th>\n",
              "      <td>137.743871</td>\n",
              "      <td>113.472626</td>\n",
              "      <td>6366.645390</td>\n",
              "      <td>4465.439855</td>\n",
              "      <td>2329.943796</td>\n",
              "      <td>6373.076632</td>\n",
              "      <td>4482.228928</td>\n",
              "      <td>2324.484819</td>\n",
              "      <td>6397.637795</td>\n",
              "      <td>4512.631579</td>\n",
              "      <td>2377.777778</td>\n",
              "      <td>0.902502</td>\n",
              "      <td>22.020135</td>\n",
              "      <td>21.338734</td>\n",
              "      <td>20.571133</td>\n",
              "      <td>0.641590</td>\n",
              "      <td>-0.133987</td>\n",
              "      <td>-0.226900</td>\n",
              "      <td>0.392315</td>\n",
              "      <td>-0.366305</td>\n",
              "      <td>23.000000</td>\n",
              "    </tr>\n",
              "    <tr>\n",
              "      <th>50%</th>\n",
              "      <td>195.602058</td>\n",
              "      <td>169.452150</td>\n",
              "      <td>7385.607549</td>\n",
              "      <td>4914.184029</td>\n",
              "      <td>2483.312523</td>\n",
              "      <td>7411.796314</td>\n",
              "      <td>4902.317688</td>\n",
              "      <td>2415.380076</td>\n",
              "      <td>7389.763780</td>\n",
              "      <td>4936.842105</td>\n",
              "      <td>2482.539683</td>\n",
              "      <td>0.916242</td>\n",
              "      <td>40.628988</td>\n",
              "      <td>41.328506</td>\n",
              "      <td>44.990666</td>\n",
              "      <td>0.758282</td>\n",
              "      <td>-0.015259</td>\n",
              "      <td>-0.122785</td>\n",
              "      <td>0.521411</td>\n",
              "      <td>-0.161057</td>\n",
              "      <td>23.000000</td>\n",
              "    </tr>\n",
              "    <tr>\n",
              "      <th>75%</th>\n",
              "      <td>293.331193</td>\n",
              "      <td>273.369799</td>\n",
              "      <td>7573.836548</td>\n",
              "      <td>5139.358683</td>\n",
              "      <td>2525.172790</td>\n",
              "      <td>7590.282205</td>\n",
              "      <td>5164.876340</td>\n",
              "      <td>2505.755389</td>\n",
              "      <td>7507.874016</td>\n",
              "      <td>5142.105263</td>\n",
              "      <td>2517.460317</td>\n",
              "      <td>0.930643</td>\n",
              "      <td>80.389507</td>\n",
              "      <td>95.007631</td>\n",
              "      <td>85.224139</td>\n",
              "      <td>0.871422</td>\n",
              "      <td>0.145906</td>\n",
              "      <td>0.021644</td>\n",
              "      <td>0.676354</td>\n",
              "      <td>0.117353</td>\n",
              "      <td>24.000000</td>\n",
              "    </tr>\n",
              "    <tr>\n",
              "      <th>max</th>\n",
              "      <td>1058.467930</td>\n",
              "      <td>936.483173</td>\n",
              "      <td>7966.742188</td>\n",
              "      <td>5654.398438</td>\n",
              "      <td>3232.750455</td>\n",
              "      <td>8084.727563</td>\n",
              "      <td>5679.354083</td>\n",
              "      <td>3165.272667</td>\n",
              "      <td>7980.314961</td>\n",
              "      <td>5607.368421</td>\n",
              "      <td>2761.904762</td>\n",
              "      <td>0.961148</td>\n",
              "      <td>750.475940</td>\n",
              "      <td>823.330033</td>\n",
              "      <td>504.692866</td>\n",
              "      <td>2.000346</td>\n",
              "      <td>1.518246</td>\n",
              "      <td>0.483611</td>\n",
              "      <td>0.957560</td>\n",
              "      <td>0.761724</td>\n",
              "      <td>24.000000</td>\n",
              "    </tr>\n",
              "  </tbody>\n",
              "</table>\n",
              "</div>"
            ],
            "text/plain": [
              "       distances_old  distances_new  ...        CLVD         day\n",
              "count     254.000000     254.000000  ...  254.000000  254.000000\n",
              "mean      225.692012     209.042457  ...   -0.116540   23.295276\n",
              "std       131.872715     141.438186  ...    0.336710    0.457067\n",
              "min        12.683673       8.497890  ...   -0.798070   23.000000\n",
              "25%       137.743871     113.472626  ...   -0.366305   23.000000\n",
              "50%       195.602058     169.452150  ...   -0.161057   23.000000\n",
              "75%       293.331193     273.369799  ...    0.117353   24.000000\n",
              "max      1058.467930     936.483173  ...    0.761724   24.000000\n",
              "\n",
              "[8 rows x 21 columns]"
            ]
          },
          "metadata": {
            "tags": []
          },
          "execution_count": 55
        }
      ]
    },
    {
      "cell_type": "code",
      "metadata": {
        "colab": {
          "base_uri": "https://localhost:8080/",
          "height": 317
        },
        "id": "2A5Xz9aPNcmq",
        "outputId": "1dd974c7-12e6-40d5-f72c-c6ec6bd31944"
      },
      "source": [
        "df1_sub2.describe()"
      ],
      "execution_count": 56,
      "outputs": [
        {
          "output_type": "execute_result",
          "data": {
            "text/html": [
              "<div>\n",
              "<style scoped>\n",
              "    .dataframe tbody tr th:only-of-type {\n",
              "        vertical-align: middle;\n",
              "    }\n",
              "\n",
              "    .dataframe tbody tr th {\n",
              "        vertical-align: top;\n",
              "    }\n",
              "\n",
              "    .dataframe thead th {\n",
              "        text-align: right;\n",
              "    }\n",
              "</style>\n",
              "<table border=\"1\" class=\"dataframe\">\n",
              "  <thead>\n",
              "    <tr style=\"text-align: right;\">\n",
              "      <th></th>\n",
              "      <th>distances_old</th>\n",
              "      <th>distances_new</th>\n",
              "      <th>new_true_x</th>\n",
              "      <th>new_true_y</th>\n",
              "      <th>new_true_z</th>\n",
              "      <th>old_true_x</th>\n",
              "      <th>old_true_y</th>\n",
              "      <th>old_true_z</th>\n",
              "      <th>pred_x</th>\n",
              "      <th>pred_y</th>\n",
              "      <th>pred_z</th>\n",
              "      <th>max_val</th>\n",
              "      <th>x_error</th>\n",
              "      <th>y_error</th>\n",
              "      <th>z_error</th>\n",
              "      <th>SNR</th>\n",
              "      <th>Magnitude</th>\n",
              "      <th>Volume</th>\n",
              "      <th>DC</th>\n",
              "      <th>CLVD</th>\n",
              "      <th>day</th>\n",
              "    </tr>\n",
              "  </thead>\n",
              "  <tbody>\n",
              "    <tr>\n",
              "      <th>count</th>\n",
              "      <td>254.000000</td>\n",
              "      <td>254.000000</td>\n",
              "      <td>254.000000</td>\n",
              "      <td>254.000000</td>\n",
              "      <td>254.000000</td>\n",
              "      <td>254.000000</td>\n",
              "      <td>254.000000</td>\n",
              "      <td>254.000000</td>\n",
              "      <td>254.000000</td>\n",
              "      <td>254.000000</td>\n",
              "      <td>254.000000</td>\n",
              "      <td>254.000000</td>\n",
              "      <td>254.000000</td>\n",
              "      <td>254.000000</td>\n",
              "      <td>254.000000</td>\n",
              "      <td>254.000000</td>\n",
              "      <td>254.000000</td>\n",
              "      <td>254.000000</td>\n",
              "      <td>254.000000</td>\n",
              "      <td>254.000000</td>\n",
              "      <td>254.000000</td>\n",
              "    </tr>\n",
              "    <tr>\n",
              "      <th>mean</th>\n",
              "      <td>226.387987</td>\n",
              "      <td>228.956922</td>\n",
              "      <td>7059.121240</td>\n",
              "      <td>4847.476634</td>\n",
              "      <td>2423.358847</td>\n",
              "      <td>7054.005495</td>\n",
              "      <td>4851.165645</td>\n",
              "      <td>2405.834003</td>\n",
              "      <td>7038.316077</td>\n",
              "      <td>4808.296726</td>\n",
              "      <td>2407.336583</td>\n",
              "      <td>0.870621</td>\n",
              "      <td>94.367730</td>\n",
              "      <td>97.907681</td>\n",
              "      <td>77.929891</td>\n",
              "      <td>0.781463</td>\n",
              "      <td>0.036874</td>\n",
              "      <td>-0.094020</td>\n",
              "      <td>0.522886</td>\n",
              "      <td>-0.116540</td>\n",
              "      <td>23.295276</td>\n",
              "    </tr>\n",
              "    <tr>\n",
              "      <th>std</th>\n",
              "      <td>123.509245</td>\n",
              "      <td>135.349998</td>\n",
              "      <td>607.251068</td>\n",
              "      <td>378.021029</td>\n",
              "      <td>190.895208</td>\n",
              "      <td>616.212961</td>\n",
              "      <td>369.562829</td>\n",
              "      <td>181.892403</td>\n",
              "      <td>572.078356</td>\n",
              "      <td>360.259655</td>\n",
              "      <td>113.038843</td>\n",
              "      <td>0.058720</td>\n",
              "      <td>137.242678</td>\n",
              "      <td>139.873438</td>\n",
              "      <td>93.994132</td>\n",
              "      <td>0.223954</td>\n",
              "      <td>0.272888</td>\n",
              "      <td>0.179770</td>\n",
              "      <td>0.202033</td>\n",
              "      <td>0.336710</td>\n",
              "      <td>0.457067</td>\n",
              "    </tr>\n",
              "    <tr>\n",
              "      <th>min</th>\n",
              "      <td>25.349460</td>\n",
              "      <td>16.730359</td>\n",
              "      <td>6071.175530</td>\n",
              "      <td>4071.598786</td>\n",
              "      <td>1905.167360</td>\n",
              "      <td>5910.364104</td>\n",
              "      <td>3999.828361</td>\n",
              "      <td>1885.194125</td>\n",
              "      <td>6043.307087</td>\n",
              "      <td>4156.842105</td>\n",
              "      <td>2098.412698</td>\n",
              "      <td>0.704339</td>\n",
              "      <td>5.358816</td>\n",
              "      <td>2.988547</td>\n",
              "      <td>0.000480</td>\n",
              "      <td>0.402601</td>\n",
              "      <td>-0.474582</td>\n",
              "      <td>-0.434596</td>\n",
              "      <td>0.063162</td>\n",
              "      <td>-0.798070</td>\n",
              "      <td>23.000000</td>\n",
              "    </tr>\n",
              "    <tr>\n",
              "      <th>25%</th>\n",
              "      <td>139.310606</td>\n",
              "      <td>135.774270</td>\n",
              "      <td>6366.645390</td>\n",
              "      <td>4465.439855</td>\n",
              "      <td>2329.943796</td>\n",
              "      <td>6373.076632</td>\n",
              "      <td>4482.228928</td>\n",
              "      <td>2324.484819</td>\n",
              "      <td>6397.637795</td>\n",
              "      <td>4430.526316</td>\n",
              "      <td>2307.936508</td>\n",
              "      <td>0.841872</td>\n",
              "      <td>22.020135</td>\n",
              "      <td>21.338734</td>\n",
              "      <td>20.571133</td>\n",
              "      <td>0.641590</td>\n",
              "      <td>-0.133987</td>\n",
              "      <td>-0.226900</td>\n",
              "      <td>0.392315</td>\n",
              "      <td>-0.366305</td>\n",
              "      <td>23.000000</td>\n",
              "    </tr>\n",
              "    <tr>\n",
              "      <th>50%</th>\n",
              "      <td>205.638848</td>\n",
              "      <td>208.515663</td>\n",
              "      <td>7385.607549</td>\n",
              "      <td>4914.184029</td>\n",
              "      <td>2483.312523</td>\n",
              "      <td>7411.796314</td>\n",
              "      <td>4902.317688</td>\n",
              "      <td>2415.380076</td>\n",
              "      <td>7366.141732</td>\n",
              "      <td>4895.789474</td>\n",
              "      <td>2377.777778</td>\n",
              "      <td>0.896541</td>\n",
              "      <td>40.628988</td>\n",
              "      <td>41.328506</td>\n",
              "      <td>44.990666</td>\n",
              "      <td>0.758282</td>\n",
              "      <td>-0.015259</td>\n",
              "      <td>-0.122785</td>\n",
              "      <td>0.521411</td>\n",
              "      <td>-0.161057</td>\n",
              "      <td>23.000000</td>\n",
              "    </tr>\n",
              "    <tr>\n",
              "      <th>75%</th>\n",
              "      <td>288.513293</td>\n",
              "      <td>280.916294</td>\n",
              "      <td>7573.836548</td>\n",
              "      <td>5139.358683</td>\n",
              "      <td>2525.172790</td>\n",
              "      <td>7590.282205</td>\n",
              "      <td>5164.876340</td>\n",
              "      <td>2505.755389</td>\n",
              "      <td>7507.874016</td>\n",
              "      <td>5087.368421</td>\n",
              "      <td>2517.460317</td>\n",
              "      <td>0.909434</td>\n",
              "      <td>80.389507</td>\n",
              "      <td>95.007631</td>\n",
              "      <td>85.224139</td>\n",
              "      <td>0.871422</td>\n",
              "      <td>0.145906</td>\n",
              "      <td>0.021644</td>\n",
              "      <td>0.676354</td>\n",
              "      <td>0.117353</td>\n",
              "      <td>24.000000</td>\n",
              "    </tr>\n",
              "    <tr>\n",
              "      <th>max</th>\n",
              "      <td>792.841788</td>\n",
              "      <td>887.052228</td>\n",
              "      <td>7966.742188</td>\n",
              "      <td>5654.398438</td>\n",
              "      <td>3232.750455</td>\n",
              "      <td>8084.727563</td>\n",
              "      <td>5679.354083</td>\n",
              "      <td>3165.272667</td>\n",
              "      <td>7956.692913</td>\n",
              "      <td>5607.368421</td>\n",
              "      <td>2657.142857</td>\n",
              "      <td>0.946664</td>\n",
              "      <td>750.475940</td>\n",
              "      <td>823.330033</td>\n",
              "      <td>504.692866</td>\n",
              "      <td>2.000346</td>\n",
              "      <td>1.518246</td>\n",
              "      <td>0.483611</td>\n",
              "      <td>0.957560</td>\n",
              "      <td>0.761724</td>\n",
              "      <td>24.000000</td>\n",
              "    </tr>\n",
              "  </tbody>\n",
              "</table>\n",
              "</div>"
            ],
            "text/plain": [
              "       distances_old  distances_new  ...        CLVD         day\n",
              "count     254.000000     254.000000  ...  254.000000  254.000000\n",
              "mean      226.387987     228.956922  ...   -0.116540   23.295276\n",
              "std       123.509245     135.349998  ...    0.336710    0.457067\n",
              "min        25.349460      16.730359  ...   -0.798070   23.000000\n",
              "25%       139.310606     135.774270  ...   -0.366305   23.000000\n",
              "50%       205.638848     208.515663  ...   -0.161057   23.000000\n",
              "75%       288.513293     280.916294  ...    0.117353   24.000000\n",
              "max       792.841788     887.052228  ...    0.761724   24.000000\n",
              "\n",
              "[8 rows x 21 columns]"
            ]
          },
          "metadata": {
            "tags": []
          },
          "execution_count": 56
        }
      ]
    }
  ]
}