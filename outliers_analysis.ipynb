{
 "cells": [
  {
   "cell_type": "code",
   "execution_count": null,
   "metadata": {
    "id": "vU4mjFlIr1eW"
   },
   "outputs": [],
   "source": [
    "import tensorflow as tf\n",
    "from tensorflow.keras import backend as K\n",
    "\n",
    "import glob\n",
    "\n",
    "import pandas as pd\n",
    "import numpy as np\n",
    "import xarray as xr\n",
    "\n",
    "import matplotlib.pyplot as plt\n",
    "import seaborn as sns"
   ]
  },
  {
   "cell_type": "markdown",
   "metadata": {
    "id": "SXcU0qP8r23F"
   },
   "source": [
    "# Outlier analysis\n",
    "\n",
    "In this notebook we specifically analyse the outliers, i.e. the events that QNet predicted with large distances compared to the catalog locations and those with low amplitudes in the predictions."
   ]
  },
  {
   "cell_type": "code",
   "execution_count": null,
   "metadata": {
    "id": "-WAwsUtusVbb"
   },
   "outputs": [],
   "source": [
    "# Functions to load model\n",
    "\n",
    "def dice_coef_gaussian(y_true, y_pred, smooth=1):\n",
    "  y_true = tf.dtypes.cast(y_true>0.1, tf.int32)\n",
    "  y_true = tf.dtypes.cast(y_true, tf.float32)\n",
    "  y_pred = tf.dtypes.cast(y_pred>0.1, tf.int32)\n",
    "  y_pred = tf.dtypes.cast(y_pred, tf.float32)\n",
    "  intersection = K.sum(y_true * y_pred, axis=[1,2,3])\n",
    "  union = K.sum(y_true, axis=[1,2,3]) + K.sum(y_pred, axis=[1,2,3])\n",
    "  dice = K.mean((2. * intersection + smooth)/(union + smooth), axis=0)\n",
    "  return dice\n",
    "\n",
    "def dice_coef(y_true, y_pred, smooth=1):\n",
    "  y_true = tf.dtypes.cast(y_true, tf.float32)\n",
    "  y_pred = tf.dtypes.cast(y_pred, tf.float32)\n",
    "  intersection = K.sum(y_true * y_pred, axis=[1,2,3])\n",
    "  union = K.sum(y_true, axis=[1,2,3]) + K.sum(y_pred, axis=[1,2,3])\n",
    "  dice = K.mean((2. * intersection + smooth)/(union + smooth), axis=0)\n",
    "  return dice\n",
    "\n",
    "# Clip values in Gaussian above 0.1 to 1 and below 0.1 to 0\n",
    "def iou_coef_gaussian(y_true, y_pred, smooth=1):\n",
    "    y_true = tf.dtypes.cast(y_true>0.1, tf.int32)\n",
    "    y_true = tf.dtypes.cast(y_true, tf.float32)\n",
    "    y_pred = tf.dtypes.cast(y_pred>0.1, tf.int32)\n",
    "    y_pred = tf.dtypes.cast(y_pred, tf.float32)\n",
    "    intersection = K.sum(K.abs(y_true * y_pred), axis=[1,2,3])\n",
    "    union = K.sum(y_true,[1,2,3])+K.sum(y_pred,[1,2,3])-intersection\n",
    "    iou = K.mean((intersection + smooth) / (union + smooth), axis=0)\n",
    "    return iou"
   ]
  },
  {
   "cell_type": "code",
   "execution_count": null,
   "metadata": {
    "id": "QMA5sdOVsZrl"
   },
   "outputs": [],
   "source": [
    "# functions to make predictions\n",
    "# Functions to make predictions on days 5 and after\n",
    "\n",
    "def normalize(data):\n",
    "    data = data/np.max(np.abs(data))\n",
    "    return data\n",
    "    \n",
    "def make_predictions(data_files, model, pd_dict_name, check_day, detection_threshold=0.6):\n",
    "\n",
    "    '''\n",
    "\n",
    "    pd = (data_files, model, pd_dict_name, detection_threshold=0.6)\n",
    "\n",
    "    Runs model prediction for all data_files and returns file names of the detected events,\n",
    "    list of detections (True/False) and a list of all the filenames.\n",
    "    Additionally it generates pandas dataframe with information about the prediction for each event.\n",
    "\n",
    "    Args:\n",
    "        data_files: list of paths to input data\n",
    "        model: model used for predictions\n",
    "        pd_dict_name: name of dictionary to save\n",
    "        detection_threshold: detection threshold\n",
    "\n",
    "    Retuns:\n",
    "        pd: pandas dataframe (also saved to disk)\n",
    "\n",
    "    '''\n",
    "    \n",
    "    distances_old, distances_new = [], []\n",
    "    true_x_new, true_y_new, true_z_new, pred_x, pred_y, pred_z = [], [], [], [], [], []\n",
    "    true_x_old, true_y_old, true_z_old = [], [], []\n",
    "    x_error, y_error, z_error = [], [], []\n",
    "    snr, magnitude = [], []\n",
    "    vol, clvd, dc = [], [], []\n",
    "    file_name = []\n",
    "    detection = []\n",
    "    fns = []\n",
    "    max_val = []\n",
    "    day = []\n",
    "\n",
    "    x = np.reshape(np.linspace(5500,8500,128), (128,))\n",
    "    y = np.reshape(np.linspace(3500,6100,96), (96,))\n",
    "    z = np.reshape(np.linspace(1400,3600,64), (64,))\n",
    "    \n",
    "    print(\"making predictions on days >= {} and < {}\".format(check_day[0], check_day[1]))\n",
    "    for i, fn in enumerate(data_files):\n",
    "\n",
    "        ds = xr.open_dataset(fn)\n",
    "\n",
    "        #if ds.attrs['day'] == check_day:\n",
    "        if ds.attrs['day'] >= check_day[0] and ds.attrs['day'] <  check_day[1]:\n",
    "\n",
    "          data = ds['data'].values\n",
    "          dt = 0.002\n",
    "          t = np.arange(0,1401)*dt\n",
    "          tn = np.linspace(0,t[-1],1024)\n",
    "          dtn = tn[1]-tn[0]\n",
    "          data_new = np.zeros((len(tn),data.shape[1]))\n",
    "          for i in range(data_new.shape[1]):\n",
    "              data_new[:,i] = np.interp(tn, t, data[:,i])\n",
    "          data = data_new\n",
    "          sx_old = ds.attrs['source_coordinates_new']\n",
    "          sx_new = ds.attrs['source_coordinates']\n",
    "          sx_error = ds.attrs['loc_errors']\n",
    "          \n",
    "          true_x_new.append(sx_new[0])\n",
    "          true_y_new.append(sx_new[1])\n",
    "          true_z_new.append(sx_new[2])\n",
    "          true_x_old.append(sx_old[0])\n",
    "          true_y_old.append(sx_old[1])\n",
    "          true_z_old.append(sx_old[2])\n",
    "          x_error.append(sx_error[0])\n",
    "          y_error.append(sx_error[1])\n",
    "          z_error.append(sx_error[2])\n",
    "          snr.append(ds.attrs['SNR'])\n",
    "          magnitude.append(ds.attrs['Magnitude'])\n",
    "          vol.append(ds.attrs['VOL'])\n",
    "          clvd.append(ds.attrs['CLVD'])\n",
    "          dc.append(ds.attrs['DC'])\n",
    "          file_name.append(fn.split('/')[-1])\n",
    "          fns.append(fn)\n",
    "          day.append(ds.attrs['day'])\n",
    "          \n",
    "          data = normalize(data)\n",
    "          data = np.reshape(data, (1, data.shape[0], data.shape[1],1))\n",
    "          prediction = model.predict(data)[0,:]\n",
    "      \n",
    "          maxIdx = np.unravel_index(np.argmax(prediction), prediction.shape)\n",
    "          xp = x[maxIdx[0]]\n",
    "          yp = y[maxIdx[1]]\n",
    "          zp = z[maxIdx[2]]\n",
    "          \n",
    "          pred_x.append(xp)\n",
    "          pred_y.append(yp)\n",
    "          pred_z.append(zp)\n",
    "          max_val.append(np.max(prediction))\n",
    "          \n",
    "          dist_old = np.sqrt((sx_old[0]-x[maxIdx[0]])**2+(sx_old[1]-y[maxIdx[1]])**2+(sx_old[2]-z[maxIdx[2]])**2)\n",
    "          dist_new = np.sqrt((sx_new[0]-x[maxIdx[0]])**2+(sx_new[1]-y[maxIdx[1]])**2+(sx_new[2]-z[maxIdx[2]])**2)\n",
    "          \n",
    "          distances_old.append(dist_old)\n",
    "          distances_new.append(dist_new)\n",
    "\n",
    "          if np.max(prediction) >= detection_threshold:\n",
    "              detection.append(True)\n",
    "          else:\n",
    "              detection.append(False)\n",
    "            \n",
    "    df = pd.DataFrame(\n",
    "        {\n",
    "            'file': file_name,\n",
    "            'detection': detection,\n",
    "            'distances_old': distances_old,\n",
    "            'distances_new': distances_new,\n",
    "            'new_true_x': true_x_new,\n",
    "            'new_true_y': true_y_new,\n",
    "            'new_true_z': true_z_new,\n",
    "            'old_true_x': true_x_old,\n",
    "            'old_true_y': true_y_old,\n",
    "            'old_true_z': true_z_old,\n",
    "            'pred_x': pred_x,\n",
    "            'pred_y': pred_y,\n",
    "            'pred_z': pred_z,\n",
    "            'max_val': max_val,\n",
    "            'x_error': x_error,\n",
    "            'y_error': y_error,\n",
    "            'z_error': z_error,\n",
    "            'SNR': snr,\n",
    "            'Magnitude': magnitude,\n",
    "            'Volume': vol,\n",
    "            'DC': dc,\n",
    "            'CLVD': clvd,\n",
    "            'filenames': fns,\n",
    "            'day': day\n",
    "        })\n",
    "    \n",
    "    df.to_csv(pd_dict_name)\n",
    "\n",
    "    n_detections = sum(bool(x) for x in detection)\n",
    "    print(\"Number of events detected: {}\".format(n_detections))\n",
    "\n",
    "    return df"
   ]
  },
  {
   "cell_type": "markdown",
   "metadata": {
    "id": "xDDqwjx4szMJ"
   },
   "source": [
    "Path to data and models"
   ]
  },
  {
   "cell_type": "code",
   "execution_count": null,
   "metadata": {
    "id": "ewgkXG6Gs1Uq"
   },
   "outputs": [],
   "source": [
    "# Paths to models\n",
    "path_qnet1 = \"drive/My Drive/Texas_TL/TL_models/TL_TFR_post/QNet_pre_test_long2_97.h5\"\n",
    "path_qnet2 = \"drive/My Drive/Texas_TL/TL_models/TL_TFR_regular_updating/QNet_0.h5\"\n",
    "\n",
    "# Paths to data\n",
    "PATH_TO_DATA = \"drive/My Drive/cnn_gpu/texas_dataset\"\n",
    "train_fns = glob.glob(PATH_TO_DATA + '/train*.nc')\n",
    "val_fns = glob.glob(PATH_TO_DATA + '/val*.nc')\n",
    "test_fns = glob.glob(PATH_TO_DATA + '/test*.nc')\n",
    "\n",
    "data_fns = np.append(train_fns, val_fns)\n",
    "data_fns = np.append(data_fns, test_fns)"
   ]
  },
  {
   "cell_type": "code",
   "execution_count": null,
   "metadata": {
    "id": "J0FzIcTzshQV"
   },
   "outputs": [],
   "source": [
    "# Load models\n",
    "QNet1 = tf.keras.models.load_model(\n",
    "        path_qnet1,\n",
    "        custom_objects={\n",
    "            'LeakyReLU':tf.keras.layers.LeakyReLU, 'ReLU':tf.keras.layers.ReLU,\n",
    "            'dice_coef_gaussian': dice_coef_gaussian, 'dice_coef': dice_coef,\n",
    "            'iou_coef_gaussian': iou_coef_gaussian,\n",
    "        })\n",
    "\n",
    "QNet2 = tf.keras.models.load_model(\n",
    "        path_qnet2,\n",
    "        custom_objects={\n",
    "            'LeakyReLU':tf.keras.layers.LeakyReLU, 'ReLU':tf.keras.layers.ReLU,\n",
    "            'dice_coef_gaussian': dice_coef_gaussian, 'dice_coef': dice_coef,\n",
    "            'iou_coef_gaussian': iou_coef_gaussian,\n",
    "        })"
   ]
  },
  {
   "cell_type": "code",
   "execution_count": null,
   "metadata": {
    "colab": {
     "base_uri": "https://localhost:8080/"
    },
    "id": "m0v6fv1kti5c",
    "outputId": "484ef229-c832-4a32-f8cb-26f9c5e0e2cf"
   },
   "outputs": [
    {
     "name": "stdout",
     "output_type": "stream",
     "text": [
      "making predictions on days >= 1 and < 27\n",
      "Number of events detected: 219\n",
      "making predictions on days >= 1 and < 27\n",
      "Number of events detected: 1128\n"
     ]
    }
   ],
   "source": [
    "df_Qnet1 = make_predictions(data_files=test_fns, model=QNet1, pd_dict_name='tmp.csv', check_day=(1,27), detection_threshold=0.7)\n",
    "df_Qnet2 = make_predictions(data_files=data_fns, model=QNet2, pd_dict_name='tmp.csv', check_day=(1,27), detection_threshold=0.7)"
   ]
  },
  {
   "cell_type": "code",
   "execution_count": 12,
   "metadata": {
    "colab": {
     "base_uri": "https://localhost:8080/"
    },
    "id": "aQrad-A41gjc",
    "outputId": "0c04daf3-0256-448b-a6ff-bd68ef3a1e15"
   },
   "outputs": [
    {
     "name": "stdout",
     "output_type": "stream",
     "text": [
      "making predictions on days >= 1 and < 27\n",
      "Number of events detected: 680\n"
     ]
    }
   ],
   "source": [
    "df_train = make_predictions(data_files=train_fns, model=QNet1, pd_dict_name='tmp.csv', check_day=(1,27), detection_threshold=0.7)"
   ]
  },
  {
   "cell_type": "markdown",
   "metadata": {
    "id": "CO0ZSITuuY7R"
   },
   "source": [
    "Histograms of distance differences between catalog and predicted location"
   ]
  },
  {
   "cell_type": "code",
   "execution_count": 13,
   "metadata": {
    "id": "KbGnMmDXpB-O"
   },
   "outputs": [],
   "source": [
    "outliers = df_Qnet1[df_Qnet1['distances_new']>500]\n",
    "df_Qnet1_good = df_Qnet1[df_Qnet1['distances_new']<=500]"
   ]
  },
  {
   "cell_type": "code",
   "execution_count": 18,
   "metadata": {
    "colab": {
     "base_uri": "https://localhost:8080/",
     "height": 495
    },
    "id": "ZuOO2gNEovka",
    "outputId": "4a433631-f4a9-4f0f-9916-da6356420f52"
   },
   "outputs": [
    {
     "name": "stderr",
     "output_type": "stream",
     "text": [
      "/usr/local/lib/python3.7/dist-packages/numpy/core/_asarray.py:83: VisibleDeprecationWarning: Creating an ndarray from ragged nested sequences (which is a list-or-tuple of lists-or-tuples-or ndarrays with different lengths or shapes) is deprecated. If you meant to do this, you must specify 'dtype=object' when creating the ndarray\n",
      "  return array(a, dtype, copy=False, order=order)\n"
     ]
    },
    {
     "data": {
      "image/png": "[encoded data removed]",
      "text/plain": [
       "<Figure size 432x432 with 1 Axes>"
      ]
     },
     "metadata": {
      "needs_background": "light",
      "tags": []
     },
     "output_type": "display_data"
    }
   ],
   "source": [
    "bins = np.arange(-0.6,1.1,0.1)\n",
    "\n",
    "plt.figure(1,figsize=(6,6))\n",
    "temp = plt.hist([outliers['Magnitude'], df_Qnet1_good['Magnitude'], df_train['Magnitude']], bins, color=['r','b','k'], alpha=0.7)#plt.hist([df_val['distances_new'], df_test['distances_new']], bins, color=['r','b'], alpha=0.7)\n",
    "plt.grid(axis='x')\n",
    "plt.xlabel('Moment Magnitude', fontsize=16)\n",
    "plt.ylabel('Number of events', fontsize=16)\n",
    "plt.xticks(bins, fontsize=14, rotation=90)\n",
    "plt.yticks(fontsize=14)\n",
    "plt.xlim([-0.6,1.0])\n",
    "plt.legend(['distances > 500 m', 'distances < 500 m', 'training set'], loc='upper right',fontsize=12)\n",
    "plt.tight_layout()\n",
    "plt.savefig('drive/My Drive/Texas_TL/Figures/hist_magnitudes_outliers.pdf')\n",
    "plt.show()"
   ]
  },
  {
   "cell_type": "code",
   "execution_count": 26,
   "metadata": {
    "colab": {
     "base_uri": "https://localhost:8080/",
     "height": 495
    },
    "id": "stQ2cib-x8Rt",
    "outputId": "f74dcc90-792a-4bce-e0cd-3d41f064cdb9"
   },
   "outputs": [
    {
     "name": "stderr",
     "output_type": "stream",
     "text": [
      "/usr/local/lib/python3.7/dist-packages/numpy/core/_asarray.py:83: VisibleDeprecationWarning: Creating an ndarray from ragged nested sequences (which is a list-or-tuple of lists-or-tuples-or ndarrays with different lengths or shapes) is deprecated. If you meant to do this, you must specify 'dtype=object' when creating the ndarray\n",
      "  return array(a, dtype, copy=False, order=order)\n"
     ]
    },
    {
     "data": {
      "image/png": "[encoded data removed]",
      "text/plain": [
       "<Figure size 432x432 with 1 Axes>"
      ]
     },
     "metadata": {
      "needs_background": "light",
      "tags": []
     },
     "output_type": "display_data"
    }
   ],
   "source": [
    "bins = np.arange(0.0,1.7,0.1)\n",
    "\n",
    "plt.figure(1,figsize=(6,6))\n",
    "temp = plt.hist([outliers['SNR'], df_Qnet1_good['SNR'], df_train['SNR']], bins, color=['r','b','k'], alpha=0.7)#plt.hist([df_val['distances_new'], df_test['distances_new']], bins, color=['r','b'], alpha=0.7)\n",
    "plt.grid(axis='x')\n",
    "plt.xlabel('S/N', fontsize=16)\n",
    "plt.ylabel('Number of events', fontsize=16)\n",
    "plt.xticks(bins, fontsize=14, rotation=90)\n",
    "plt.yticks(fontsize=14)\n",
    "plt.xlim([0.4,1.6])\n",
    "plt.legend(['distances > 500 m', 'distances < 500 m', 'training set'], loc='upper right',fontsize=12)\n",
    "plt.tight_layout()\n",
    "plt.savefig('drive/My Drive/Texas_TL/Figures/hist_snr_outliers.pdf')\n",
    "plt.show()"
   ]
  }
 ],
 "metadata": {
  "colab": {
   "collapsed_sections": [],
   "name": "outliers_analysis.ipynb",
   "provenance": []
  },
  "kernelspec": {
   "display_name": "Python 3",
   "language": "python",
   "name": "python3"
  },
  "language_info": {
   "name": "python"
  }
 },
 "nbformat": 4,
 "nbformat_minor": 1
}
